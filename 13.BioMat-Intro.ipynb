{
 "cells": [
  {
   "cell_type": "markdown",
   "id": "8ad6b4be-5a8b-49cc-acbf-094e0f22589f",
   "metadata": {
    "jp-MarkdownHeadingCollapsed": true
   },
   "source": [
    "# Atomic masses"
   ]
  },
  {
   "cell_type": "code",
   "execution_count": null,
   "id": "1404416d-020b-4d37-a735-d721cc75d9a4",
   "metadata": {},
   "outputs": [],
   "source": [
    "# Define a dictionary of atomic masses\n",
    "atomic_masses = Dict(\"H\" => 1.008, \"C\" => 12.011, \"O\" => 15.999)"
   ]
  },
  {
   "cell_type": "code",
   "execution_count": null,
   "id": "56469554-065a-4c88-a704-59688b67f477",
   "metadata": {},
   "outputs": [],
   "source": [
    "# Function to calculate molecular mass\n",
    "function molecular_mass(formula)\n",
    "    mass = 0.0\n",
    "    for (atom, count) in formula\n",
    "        mass += atomic_masses[atom] * count\n",
    "    end\n",
    "    return mass\n",
    "end"
   ]
  },
  {
   "cell_type": "code",
   "execution_count": null,
   "id": "be1279af-9188-40c9-8aba-1eda7a27cdaf",
   "metadata": {},
   "outputs": [],
   "source": [
    "# Calculate mass of water and methanol\n",
    "water = Dict(\"H\" => 2, \"O\" => 1)\n",
    "methanol = Dict(\"C\" => 1, \"H\" => 4, \"O\" => 1)"
   ]
  },
  {
   "cell_type": "code",
   "execution_count": null,
   "id": "52b4c77d-1268-4f51-8932-32c6c5e9c39a",
   "metadata": {},
   "outputs": [],
   "source": [
    "println(\"Mass of water: $(molecular_mass(water)) g/mol\")\n",
    "println(\"Mass of methanol: $(molecular_mass(methanol)) g/mol\")"
   ]
  },
  {
   "cell_type": "markdown",
   "id": "9c2e0f5d-cf53-4cb9-b9a0-bf1e498df463",
   "metadata": {
    "jp-MarkdownHeadingCollapsed": true
   },
   "source": [
    "# Packages"
   ]
  },
  {
   "cell_type": "code",
   "execution_count": null,
   "id": "3702de00-f39b-4299-9647-1cbda8861187",
   "metadata": {},
   "outputs": [],
   "source": [
    "  using Pkg\n",
    "  Pkg.add(\"Unitful\")\n",
    "  using Unitful"
   ]
  },
  {
   "cell_type": "code",
   "execution_count": null,
   "id": "5aec26f7-5b01-44ec-9b63-8670936d09f1",
   "metadata": {},
   "outputs": [],
   "source": [
    "  # Convert temperature from Kelvin to Celsius\n",
    "  T_kelvin = 300.0u\"K\""
   ]
  },
  {
   "cell_type": "code",
   "execution_count": null,
   "id": "0f598c21-dffe-428d-ac96-c7700d3b61fa",
   "metadata": {},
   "outputs": [],
   "source": [
    "  T_celsius = uconvert(u\"°C\", T_kelvin)"
   ]
  },
  {
   "cell_type": "code",
   "execution_count": null,
   "id": "cf304cc6-87b3-42fe-8e91-333726c0e5a1",
   "metadata": {},
   "outputs": [],
   "source": [
    "  println(\"$T_kelvin is equal to $T_celsius\")"
   ]
  },
  {
   "cell_type": "markdown",
   "id": "acbd7200-6f0e-45d8-b067-5b86db311045",
   "metadata": {
    "jp-MarkdownHeadingCollapsed": true
   },
   "source": [
    "# Type inference"
   ]
  },
  {
   "cell_type": "code",
   "execution_count": null,
   "id": "45e632f4-b399-4770-a2ec-853d0c9fb227",
   "metadata": {},
   "outputs": [],
   "source": [
    "struct Atom\n",
    "    symbol::String\n",
    "    ε::Float64  # Depth of potential well\n",
    "    σ::Float64  # Distance at which potential is zero\n",
    "end"
   ]
  },
  {
   "cell_type": "code",
   "execution_count": null,
   "id": "92d72005-8dbb-41c2-97de-528a1922c459",
   "metadata": {},
   "outputs": [],
   "source": [
    "function lj_potential(a1::Atom, a2::Atom, r::Float64)\n",
    "    ε = sqrt(a1.ε * a2.ε)\n",
    "    σ = (a1.σ + a2.σ) / 2\n",
    "    return 4ε * ((σ/r)^12 - (σ/r)^6)\n",
    "end"
   ]
  },
  {
   "cell_type": "code",
   "execution_count": null,
   "id": "27708dac-63aa-441a-81a7-5004a2f4e8a6",
   "metadata": {},
   "outputs": [],
   "source": [
    "Ar = Atom(\"Ar\", 0.997, 3.40)\n",
    "Kr = Atom(\"Kr\", 1.320, 3.65)"
   ]
  },
  {
   "cell_type": "code",
   "execution_count": null,
   "id": "04e185b5-c3ed-4239-a509-55d117c995cd",
   "metadata": {},
   "outputs": [],
   "source": [
    "r = 4.0  # Distance in Angstroms\n",
    "println(\"LJ potential for Ar-Ar at $r Å: $(lj_potential(Ar, Ar, r)) kJ/mol\")\n",
    "println(\"LJ potential for Ar-Kr at $r Å: $(lj_potential(Ar, Kr, r)) kJ/mol\")\n",
    "println(\"LJ potential for Kr-Kr at $r Å: $(lj_potential(Kr, Kr, r)) kJ/mol\")"
   ]
  },
  {
   "cell_type": "markdown",
   "id": "d20f96ca-41aa-48e0-b0ba-6bdd3fec28f2",
   "metadata": {
    "jp-MarkdownHeadingCollapsed": true
   },
   "source": [
    "# Particle in box"
   ]
  },
  {
   "cell_type": "code",
   "execution_count": null,
   "id": "4c780c2c-12af-48cc-8dc4-d5000d35453f",
   "metadata": {},
   "outputs": [],
   "source": [
    "using LinearAlgebra\n",
    "\n",
    "function particle_in_box(n, L)\n",
    "    H = zeros(n, n)\n",
    "    for i in 1:n\n",
    "        H[i,i] = (i^2 * π^2) / (2 * L^2)\n",
    "    end\n",
    "    return eigvals(H), eigvecs(H)\n",
    "end\n",
    "\n",
    "n = 10  # Number of basis functions\n",
    "L = 1.0  # Box length\n",
    "energies, wavefunctions = particle_in_box(n, L)\n",
    "println(\"First 3 energy levels: $(energies[1:3])\")"
   ]
  },
  {
   "cell_type": "markdown",
   "id": "01752557-bc4e-4c21-9430-6eba7f9024b1",
   "metadata": {
    "jp-MarkdownHeadingCollapsed": true
   },
   "source": [
    "# Reaction kinetics"
   ]
  },
  {
   "cell_type": "code",
   "execution_count": null,
   "id": "00a4d21b-6e59-429e-8ac1-948093579761",
   "metadata": {},
   "outputs": [],
   "source": [
    "using DifferentialEquations, Plots\n",
    "\n",
    "function reaction_kinetics!(du, u, p, t)\n",
    "    k1, k2 = p\n",
    "    du[1] = -k1 * u[1]             # d[A]/dt\n",
    "    du[2] = k1 * u[1] - k2 * u[2]  # d[B]/dt\n",
    "    du[3] = k2 * u[2]              # d[C]/dt\n",
    "end"
   ]
  },
  {
   "cell_type": "code",
   "execution_count": null,
   "id": "a1838462-e7cd-4d4e-9d77-ac50bfe16d95",
   "metadata": {},
   "outputs": [],
   "source": [
    "u0 = [1.0, 0.0, 0.0]  # Initial concentrations [A], [B], [C]\n",
    "tspan = (0.0, 10.0)\n",
    "p = (0.5, 0.2)  # Rate constants k1, k2"
   ]
  },
  {
   "cell_type": "code",
   "execution_count": null,
   "id": "90df36c2-a8e2-496a-a224-63e250af6800",
   "metadata": {},
   "outputs": [],
   "source": [
    "prob = ODEProblem(reaction_kinetics!, u0, tspan, p)\n",
    "sol = solve(prob);"
   ]
  },
  {
   "cell_type": "code",
   "execution_count": null,
   "id": "b6fec015-88a2-4dfa-94f0-2a592336667c",
   "metadata": {},
   "outputs": [],
   "source": [
    "plot(sol, title=\"Chemical Kinetics\", xlabel=\"Time\", ylabel=\"Concentration\",\n",
    "     label=[\"[A]\" \"[B]\" \"[C]\"])"
   ]
  },
  {
   "cell_type": "code",
   "execution_count": null,
   "id": "4a40d5dc-e6ab-44d4-aece-fdda217c6a61",
   "metadata": {},
   "outputs": [],
   "source": []
  }
 ],
 "metadata": {
  "kernelspec": {
   "display_name": "Julia 1.9.4",
   "language": "julia",
   "name": "julia-1.9"
  },
  "language_info": {
   "file_extension": ".jl",
   "mimetype": "application/julia",
   "name": "julia",
   "version": "1.9.4"
  }
 },
 "nbformat": 4,
 "nbformat_minor": 5
}
